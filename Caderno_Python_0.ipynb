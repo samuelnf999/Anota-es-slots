{
  "nbformat": 4,
  "nbformat_minor": 0,
  "metadata": {
    "colab": {
      "provenance": [],
      "toc_visible": true,
      "collapsed_sections": [
        "ji6JIvdj985c",
        "9YboQ3S-Av3O",
        "RJR6nk4QEAD2",
        "Mrfhzza9GuKu"
      ],
      "authorship_tag": "ABX9TyNX1ZsWIT0hVq6cBoYySuYn",
      "include_colab_link": true
    },
    "kernelspec": {
      "name": "python3",
      "display_name": "Python 3"
    },
    "language_info": {
      "name": "python"
    }
  },
  "cells": [
    {
      "cell_type": "markdown",
      "metadata": {
        "id": "view-in-github",
        "colab_type": "text"
      },
      "source": [
        "<a href=\"https://colab.research.google.com/github/samuelnf999/Anota-es-slots/blob/main/Caderno_Python_0.ipynb\" target=\"_parent\"><img src=\"https://colab.research.google.com/assets/colab-badge.svg\" alt=\"Open In Colab\"/></a>"
      ]
    },
    {
      "cell_type": "markdown",
      "source": [
        "#Operadores Aritméticos"
      ],
      "metadata": {
        "id": "ji6JIvdj985c"
      }
    },
    {
      "cell_type": "markdown",
      "source": [
        "##Números"
      ],
      "metadata": {
        "id": "yVdqMHE97Bj6"
      }
    },
    {
      "cell_type": "code",
      "source": [
        "#Operadores Aritméticos\n",
        "print(7+2)\n",
        "print(7-2)\n",
        "print(7*2)\n",
        "print(7/2)\n",
        "print(7**2)\n",
        "print(7//2)#Divisão inteira;Ex:Resultado=3.5(Então a divisão inteira é 3)\n",
        "print(7%2)#Resto da divisão;Ex:Resultado=3.5(Então o resto da divisão é 1)"
      ],
      "metadata": {
        "colab": {
          "base_uri": "https://localhost:8080/"
        },
        "id": "bYQN2w2H7uHV",
        "outputId": "7cc75778-7ce4-4469-b7a8-6301468051ae"
      },
      "execution_count": null,
      "outputs": [
        {
          "output_type": "stream",
          "name": "stdout",
          "text": [
            "9\n",
            "5\n",
            "14\n",
            "3.5\n",
            "49\n",
            "3\n",
            "1\n"
          ]
        }
      ]
    },
    {
      "cell_type": "markdown",
      "source": [
        "##Strings"
      ],
      "metadata": {
        "id": "RG-060x27EGa"
      }
    },
    {
      "cell_type": "code",
      "source": [
        "#Operadores Aritméticos com str\n",
        "print('ola ' + 'mundo')\n",
        "print('ola '*5)\n",
        "#Aplicação\n",
        "print(' - '*21)\n",
        "print('  '*10 +  'Bem Vindo'  + '  '*4)\n",
        "print(' - '*21)"
      ],
      "metadata": {
        "colab": {
          "base_uri": "https://localhost:8080/"
        },
        "id": "dXvRhkCr9kAd",
        "outputId": "a8cd2006-1e28-41cf-b864-b92e86027ae2"
      },
      "execution_count": null,
      "outputs": [
        {
          "output_type": "stream",
          "name": "stdout",
          "text": [
            "ola mundo\n",
            "ola ola ola ola ola \n",
            " -  -  -  -  -  -  -  -  -  -  -  -  -  -  -  -  -  -  -  -  - \n",
            "                    Bem Vindo        \n",
            " -  -  -  -  -  -  -  -  -  -  -  -  -  -  -  -  -  -  -  -  - \n"
          ]
        }
      ]
    },
    {
      "cell_type": "markdown",
      "source": [
        "#Verificar variáveis"
      ],
      "metadata": {
        "id": "ys2CB0sWiBYX"
      }
    },
    {
      "cell_type": "code",
      "source": [
        "entrada = input('Digite um número: ')\n",
        "num = entrada.isnumeric()\n",
        "text = entrada.isalpha()\n",
        "numText = entrada.isalnum()\n",
        "print(num)\n",
        "print(type(entrada))"
      ],
      "metadata": {
        "colab": {
          "base_uri": "https://localhost:8080/"
        },
        "id": "JoYJVeVBiFmf",
        "outputId": "b4919800-7063-4e24-bdac-cb2a0f707b3c"
      },
      "execution_count": null,
      "outputs": [
        {
          "output_type": "stream",
          "name": "stdout",
          "text": [
            "Digite um número: 98,9\n",
            "False\n",
            "<class 'str'>\n"
          ]
        }
      ]
    },
    {
      "cell_type": "markdown",
      "source": [
        "# Converter variáveis"
      ],
      "metadata": {
        "id": "9YboQ3S-Av3O"
      }
    },
    {
      "cell_type": "code",
      "source": [
        "#Converte variável para inteiro\n",
        "int(1.856) == 1\n",
        "int('4') == 4\n",
        "int(True) == 1\n",
        "int(False) == 0\n",
        "\n",
        "#Converte variável para reais\n",
        "float(1) == 1.0\n",
        "float('4') == 4.0\n",
        "float(True) == 1.0\n",
        "float(False) == 0.0\n",
        "\n",
        "#Converte variável para string\n",
        "str(1) == '1'\n",
        "str(1.809) == '1.809'\n",
        "str(True) == 'True'\n",
        "str(False) == 'False'"
      ],
      "metadata": {
        "colab": {
          "base_uri": "https://localhost:8080/"
        },
        "id": "j-9exxtHA10-",
        "outputId": "1eddcbe7-4df7-4c4d-a8da-ce993bcdf95e"
      },
      "execution_count": null,
      "outputs": [
        {
          "output_type": "execute_result",
          "data": {
            "text/plain": [
              "True"
            ]
          },
          "metadata": {},
          "execution_count": 40
        }
      ]
    },
    {
      "cell_type": "markdown",
      "source": [
        "# Print() com .format() e f.''"
      ],
      "metadata": {
        "id": "RJR6nk4QEAD2"
      }
    },
    {
      "cell_type": "code",
      "source": [
        "lanche = 12.90\n",
        "batata = 5.90\n",
        "refri = 3\n",
        "pgto = 'cartão'\n",
        "conta = lanche+batata+refri\n",
        "\n",
        "#Imprimindo de forma tradicional\n",
        "print('A sua compra foi efetuada no',pgto,'no valor de',conta,'R$')\n",
        "\n",
        "#Imprimindo com .format\n",
        "print('A sua compra foi efetuada no {}, com o valor de {}R$'.format(pgto,conta))\n",
        "\n",
        "#Imprimindo com f.''\n",
        "print(f'A sua compra foi efetuada no{pgto}, com o valor de {conta}R$')"
      ],
      "metadata": {
        "colab": {
          "base_uri": "https://localhost:8080/"
        },
        "id": "Wr7Zy5I4EHlF",
        "outputId": "de16992d-fc80-4b81-9b9b-e128ff3e25b5"
      },
      "execution_count": null,
      "outputs": [
        {
          "output_type": "stream",
          "name": "stdout",
          "text": [
            "A sua compra foi efetuada no cartão no valor de 21.8 R$\n",
            "A sua compra foi efetuada no cartão, com o valor de 21.8R$\n",
            "A sua compra foi efetuada nocartão, com o valor de 21.8R$\n"
          ]
        }
      ]
    },
    {
      "cell_type": "markdown",
      "source": [
        "#Formatando números"
      ],
      "metadata": {
        "id": "Mrfhzza9GuKu"
      }
    },
    {
      "cell_type": "code",
      "source": [
        "a = 1\n",
        "b = 7\n",
        "print('a dividido por b é: {}' .format(a/b))\n",
        "print('a dividido por b é: {:.5f}' .format(a/b))"
      ],
      "metadata": {
        "colab": {
          "base_uri": "https://localhost:8080/"
        },
        "id": "qwAAnC_FG0iV",
        "outputId": "fb84c02b-74e2-4f86-8745-2e41c3b85bfb"
      },
      "execution_count": null,
      "outputs": [
        {
          "output_type": "stream",
          "name": "stdout",
          "text": [
            "a dividido por b é: 0.14285714285714285\n",
            "a dividido por b é: 0.14286\n"
          ]
        }
      ]
    },
    {
      "cell_type": "code",
      "source": [
        "a = 245\n",
        "b = 2.835895\n",
        "print('| {0:10d} | e | {1:10.4f} |'.format(a,b))"
      ],
      "metadata": {
        "colab": {
          "base_uri": "https://localhost:8080/"
        },
        "id": "RAZ2t2OIIDSN",
        "outputId": "ec0d6b87-2c9c-4807-f7c4-a89468eb8daa"
      },
      "execution_count": null,
      "outputs": [
        {
          "output_type": "stream",
          "name": "stdout",
          "text": [
            "|        245 | e |     2.8359 |\n"
          ]
        }
      ]
    },
    {
      "cell_type": "markdown",
      "source": [
        "#Condicionais"
      ],
      "metadata": {
        "id": "hD9MtdMu72oF"
      }
    },
    {
      "cell_type": "code",
      "source": [
        "vontade = input('Vontade: ')\n",
        "if vontade == 'lanche':\n",
        "  print('Ir a mec')\n",
        "  print('Comer lanche')\n",
        "else:\n",
        "  if vontade == 'pizza':\n",
        "    print('Ir ao Hut')\n",
        "    print('Comer uma pizza')\n",
        "  else:\n",
        "    print('Ir ao bell')\n",
        "    print('Comer tacos')\n",
        "print(\"Fome Satisfeita\")"
      ],
      "metadata": {
        "colab": {
          "base_uri": "https://localhost:8080/"
        },
        "id": "30Ljgqg245iB",
        "outputId": "26d7a940-c758-449f-a78b-2a45ab0a2c24"
      },
      "execution_count": null,
      "outputs": [
        {
          "output_type": "stream",
          "name": "stdout",
          "text": [
            "Vontade: pai\n",
            "Ir ao bell\n",
            "Comer tacos\n",
            "Fome Satisfeita\n"
          ]
        }
      ]
    },
    {
      "cell_type": "code",
      "source": [
        "vontade = input('Vontade: ')\n",
        "if vontade == 'lanche':\n",
        "  print('Coma um lanche no mec')\n",
        "elif vontade == 'pizza':\n",
        "  print('Coma uma pizza no hut')\n",
        "elif vontade == 'pao':\n",
        "  print('Comer um pao na panificadora')\n",
        "else:\n",
        "  print('Não sabemos o que você quer')"
      ],
      "metadata": {
        "colab": {
          "base_uri": "https://localhost:8080/"
        },
        "id": "LNd6SRd388Nj",
        "outputId": "d746d108-bed1-48a9-c2f6-4eeffa232710"
      },
      "execution_count": null,
      "outputs": [
        {
          "output_type": "stream",
          "name": "stdout",
          "text": [
            "Vontade: batat\n",
            "Não sabemos o que você quer\n"
          ]
        }
      ]
    },
    {
      "cell_type": "markdown",
      "source": [
        "# Repetições"
      ],
      "metadata": {
        "id": "-9HICCziVdTy"
      }
    },
    {
      "cell_type": "markdown",
      "source": [
        "##For"
      ],
      "metadata": {
        "id": "uE5Sj8EE8CuZ"
      }
    },
    {
      "cell_type": "markdown",
      "source": [],
      "metadata": {
        "id": "ZuDeHGNW8I4y"
      }
    },
    {
      "cell_type": "markdown",
      "source": [
        "###Números pares e impares"
      ],
      "metadata": {
        "id": "O3yrq6hc8LFj"
      }
    },
    {
      "cell_type": "markdown",
      "source": [
        "Podemos ultilizar o passo com número 2 para identificar números impares e pares."
      ],
      "metadata": {
        "id": "NoSRiliPV8iT"
      }
    },
    {
      "cell_type": "code",
      "source": [
        "passo = range(1,10+1,2)\n",
        "soma= 0\n",
        "\n",
        "for i in passo:\n",
        "  soma = soma + i\n",
        "  print(f'i = {i}, soma = {soma}')\n",
        "print('Fim')\n"
      ],
      "metadata": {
        "colab": {
          "base_uri": "https://localhost:8080/"
        },
        "id": "Ip0_kXT3VjZ4",
        "outputId": "b43a18dc-006a-41a6-bcc1-1ead641ea7ad"
      },
      "execution_count": null,
      "outputs": [
        {
          "output_type": "stream",
          "name": "stdout",
          "text": [
            "i = 1, soma = 1\n",
            "i = 3, soma = 4\n",
            "i = 5, soma = 9\n",
            "i = 7, soma = 16\n",
            "i = 9, soma = 25\n",
            "Fim\n"
          ]
        }
      ]
    },
    {
      "cell_type": "markdown",
      "source": [
        "###Média de x números"
      ],
      "metadata": {
        "id": "8-Jbvlp78WDy"
      }
    },
    {
      "cell_type": "markdown",
      "source": [
        "Tirar a média de uma determinada quantidade de números."
      ],
      "metadata": {
        "id": "pwL-0K7oaLA4"
      }
    },
    {
      "cell_type": "code",
      "source": [
        "passo = range(1,3+1)\n",
        "soma = 0\n",
        "\n",
        "for i in passo:\n",
        "  n = (float(input(f'Digite o {i} número:')))\n",
        "  soma += n\n",
        "  print('i = {}, soma = {}'.format(i,soma))\n",
        "media = soma / i\n",
        "print('A média é de: {:.2f}'.format(media))\n"
      ],
      "metadata": {
        "colab": {
          "base_uri": "https://localhost:8080/"
        },
        "id": "tzEXE4o1aU8w",
        "outputId": "e70efc3e-ae29-4467-a6fd-3d2fb7ff5030"
      },
      "execution_count": null,
      "outputs": [
        {
          "output_type": "stream",
          "name": "stdout",
          "text": [
            "Digite o 1 número:5\n",
            "i = 1, soma = 5.0\n",
            "Digite o 2 número:2\n",
            "i = 2, soma = 7.0\n",
            "Digite o 3 número:6\n",
            "i = 3, soma = 13.0\n",
            "A média é de: 4.33\n"
          ]
        }
      ]
    },
    {
      "cell_type": "markdown",
      "source": [
        "## Quando utilizar for ou while ?"
      ],
      "metadata": {
        "id": "d-85ESe9cW-R"
      }
    },
    {
      "cell_type": "markdown",
      "source": [
        "O for é utilizado quando o looping tem um número determidado de vezes para ser execultado. Ex: Conte de 1 até 10; Você tem uma tupla com um número determidado de itens.\n",
        "\n",
        "O while é o contrario, é utilizado quando não sabemos a quantidade exata de vezes que será execultado. Ex: Digite x números até passar do valor x."
      ],
      "metadata": {
        "id": "vt2B_fuT9QCC"
      }
    },
    {
      "cell_type": "markdown",
      "source": [
        "##While"
      ],
      "metadata": {
        "id": "8oo00G4d8nA6"
      }
    },
    {
      "cell_type": "markdown",
      "source": [
        "###Looping infinito"
      ],
      "metadata": {
        "id": "onI_d8Ld8zD6"
      }
    },
    {
      "cell_type": "code",
      "source": [
        "while True:#No while deve ser colocado a condição pedida. Ex: Quero que some até passar do número vinte.(while soma <= 20:)\n",
        "    print('Execute a ação')"
      ],
      "metadata": {
        "id": "ckRoZwc2db8R"
      },
      "execution_count": null,
      "outputs": []
    },
    {
      "cell_type": "markdown",
      "source": [
        "###Looping infinito com delimitador"
      ],
      "metadata": {
        "id": "oz3yucBAdevA"
      }
    },
    {
      "cell_type": "code",
      "source": [
        "fim = False\n",
        "while fim == False:\n",
        "  print('Execute a ação')\n",
        "  fim = bool(input('Terminou ?'))\n",
        "print('Fim')"
      ],
      "metadata": {
        "colab": {
          "base_uri": "https://localhost:8080/"
        },
        "id": "FqhbM4yEdm25",
        "outputId": "622e8a10-f7da-45c0-d4f0-fb35fad3096d"
      },
      "execution_count": null,
      "outputs": [
        {
          "output_type": "stream",
          "name": "stdout",
          "text": [
            "Execute a ação\n",
            "Terminou ?sim\n",
            "Fim\n"
          ]
        }
      ]
    },
    {
      "cell_type": "code",
      "source": [
        "soma = 0 \n",
        "\n",
        "while True: \n",
        "  n = int(input('Digite um valor: '))\n",
        "  soma += n\n",
        "  continua = input('Você quer continar ? (s/n)')\n",
        "  if continua == 'n':\n",
        "    break\n",
        "print(soma)"
      ],
      "metadata": {
        "id": "YUoFD1EOjOnx"
      },
      "execution_count": null,
      "outputs": []
    },
    {
      "cell_type": "markdown",
      "source": [
        "###Variável de contador"
      ],
      "metadata": {
        "id": "oAkNIqkJ9Dmj"
      }
    },
    {
      "cell_type": "markdown",
      "source": [
        "No while é sempre preciso usar um variável como contador, se não o looping ficará infinito, ou deve ser colocado uma pergunta se o usuário quer continuar.(Está no exemplo acima)"
      ],
      "metadata": {
        "id": "d5KgRrRPfC3R"
      }
    },
    {
      "cell_type": "code",
      "source": [
        "soma = 1\n",
        "i = 1#i: Variável de controle\n",
        "\n",
        "while i < 10:\n",
        "  i += 1\n",
        "  soma += 1\n",
        "  print(soma)"
      ],
      "metadata": {
        "id": "sAVGrBlNfSpp"
      },
      "execution_count": null,
      "outputs": []
    },
    {
      "cell_type": "markdown",
      "source": [
        "#Tuplas"
      ],
      "metadata": {
        "id": "EgjRTReB8iZy"
      }
    },
    {
      "cell_type": "markdown",
      "source": [
        "Você pode pegar valores específicos da tupla, ou trechos com mais de um valor."
      ],
      "metadata": {
        "id": "wjgO4LKk8pPi"
      }
    },
    {
      "cell_type": "code",
      "source": [
        "t2 = (1,3,5,7)\n",
        "print(t2[0])\n",
        "print(t2[1:4])"
      ],
      "metadata": {
        "colab": {
          "base_uri": "https://localhost:8080/"
        },
        "id": "pYmZUWAN9Az1",
        "outputId": "9881cf53-24f2-42fe-c7fd-daddc0aa3cb0"
      },
      "execution_count": null,
      "outputs": [
        {
          "output_type": "stream",
          "name": "stdout",
          "text": [
            "1\n",
            "(3, 5, 7)\n"
          ]
        }
      ]
    },
    {
      "cell_type": "markdown",
      "source": [
        " Funções com tuplas:"
      ],
      "metadata": {
        "id": "-473Q0H-A_C6"
      }
    },
    {
      "cell_type": "code",
      "source": [
        "#len(t1) : qtd de termos\n",
        "#sorted(t1) : ordenar , sorted(set(t1)) : excluir os repetidos e ordenar\n",
        "#t1.count(valor) : contar a qtd de “valor”\n",
        "#t1.index(valor) : achar a 1ª posição de “valor”\n",
        "#t1.index(valor,pos) : achar “valor” a partir da “pos”\n",
        "#t1 + t2 : concatenar tuplas"
      ],
      "metadata": {
        "id": "W39PrEZmBI_j"
      },
      "execution_count": null,
      "outputs": []
    },
    {
      "cell_type": "markdown",
      "source": [
        "# Listas"
      ],
      "metadata": {
        "id": "U0qhxrZWXY1S"
      }
    },
    {
      "cell_type": "markdown",
      "source": [
        "##listas Simples"
      ],
      "metadata": {
        "id": "YUDjByRFCD_U"
      }
    },
    {
      "cell_type": "markdown",
      "source": [
        "###Funções"
      ],
      "metadata": {
        "id": "3VGTG7y45Yej"
      }
    },
    {
      "cell_type": "markdown",
      "source": [
        "Funções que servem para listas e tuplas."
      ],
      "metadata": {
        "id": "tSikx4ewiDER"
      }
    },
    {
      "cell_type": "code",
      "source": [
        "#Fatiamento: [0] [0:2] [:3] [3:] [-1]\n",
        "#Métodos: .index() .count()\n",
        "#Funções: len() e sorted()\n",
        "#Concatenar: lista3 = lista1 + lista2\n",
        "#Lista dentro de for: for i in lista \n",
        "#for i, v in enumerate(lista):"
      ],
      "metadata": {
        "id": "B2n6sJaliOBh"
      },
      "execution_count": null,
      "outputs": []
    },
    {
      "cell_type": "markdown",
      "source": [
        "### Troca de valores"
      ],
      "metadata": {
        "id": "c-FMd79g5foC"
      }
    },
    {
      "cell_type": "markdown",
      "source": [
        "É possível trocar valores de forma individual ou de forma múltipla, basta ter um espaço de tamanho de igual do valores que serão alterados."
      ],
      "metadata": {
        "id": "Bcv4MGEzkJaB"
      }
    },
    {
      "cell_type": "code",
      "source": [
        "l1 = [2, 6, 4, 5, 7]\n",
        "print(l1)\n",
        "\n",
        "# Trocando um valor\n",
        "l1[2] = 3\n",
        "print(l1)\n",
        "\n",
        "# Trocando vários valores(Desde que os novos valores tenham o mesmo número de indices dos valores antigos.)\n",
        "l1[:2] = [0,1]\n",
        "print(l1)"
      ],
      "metadata": {
        "id": "o0FrJxIAkifR"
      },
      "execution_count": null,
      "outputs": []
    },
    {
      "cell_type": "markdown",
      "source": [
        "###Adicionar valores"
      ],
      "metadata": {
        "id": "e0Il6TWr5i7a"
      }
    },
    {
      "cell_type": "markdown",
      "source": [
        "Adicionar um valor no fim da lista, ou adicionar um valor em uma posição especifica."
      ],
      "metadata": {
        "id": "Mun2WqahlK2E"
      }
    },
    {
      "cell_type": "code",
      "source": [
        "l1 = [0, 1, 3, 5, 7]\n",
        "print(l1)\n",
        "\n",
        "# Adicionar por completo no fim\n",
        "l1.append(7)\n",
        "print(l1)\n",
        "\n",
        "#adiciona os itens separados(Ex: Se adicionar uma lista, irá adicionar cada item separado.)\n",
        "l1.extend([9])\n",
        "print(l1)\n",
        "\n",
        "#Adicionar na posição x. Ex(.insert(posição,valorAdicionado))\n",
        "l1.insert(4,4)\n",
        "print(l1)"
      ],
      "metadata": {
        "id": "u_t-MOR9lIVS",
        "colab": {
          "base_uri": "https://localhost:8080/"
        },
        "outputId": "08eba85b-cc99-4998-82a6-4ca742ae137a"
      },
      "execution_count": null,
      "outputs": [
        {
          "output_type": "stream",
          "name": "stdout",
          "text": [
            "[0, 1, 3, 5, 7]\n",
            "[0, 1, 3, 5, 7, 7]\n",
            "[0, 1, 3, 5, 7, 7, 9]\n",
            "[0, 1, 3, 5, 4, 7, 7, 9]\n"
          ]
        }
      ]
    },
    {
      "cell_type": "markdown",
      "source": [
        "###Deletar valores"
      ],
      "metadata": {
        "id": "m8oSswse5nga"
      }
    },
    {
      "cell_type": "markdown",
      "source": [
        "Formas de deletar valores da lista."
      ],
      "metadata": {
        "id": "WwJOU8zzopbD"
      }
    },
    {
      "cell_type": "code",
      "source": [
        "l1 = [0, 1, 3, 4, 5, 7, 7]\n",
        "print(l1)\n",
        "\n",
        "# Delete da lista l1 o item na posição 3\n",
        "del l1[3]\n",
        "print(l1)\n",
        "\n",
        "#Delete da lista l1 o item na posição 2, e salve o item deletado na variável que foi criada.\n",
        "deletado = l1.pop(2)\n",
        "print(l1, ' - ', deletado)\n",
        "\n",
        "#Delete da lista l1 o valor 7. Obs: Se tiver mais de um valor igual a 7, somente o primeiro valor encontrado será deletado.\n",
        "l1.remove(7)\n",
        "print(l1)"
      ],
      "metadata": {
        "id": "a63T560Potdp"
      },
      "execution_count": null,
      "outputs": []
    },
    {
      "cell_type": "markdown",
      "source": [
        "Verificar se existe o valor na lista antes de remove-lo. Obs: Para evitar erros com o usuário final."
      ],
      "metadata": {
        "id": "Ep9PlnwapMmy"
      }
    },
    {
      "cell_type": "code",
      "source": [
        "#if valor in lista:\n",
        "#  t1.remove(valor)\n",
        "\n",
        "l1 = [0, 1, 3, 4, 5, 7, 7]\n",
        "print(l1)\n",
        "\n",
        "#Remove somente o primeiro 7 que for achado na lista.\n",
        "if 7 in l1:\n",
        "  l1.remove(7)\n",
        "\n",
        "print(l1)\n",
        "\n",
        "#Remove todos os valores de 7 que estiverem na lista.\n",
        "for i in l1:\n",
        "  if 7 in l1:\n",
        "    l1.remove(7)\n",
        "print(l1)"
      ],
      "metadata": {
        "colab": {
          "base_uri": "https://localhost:8080/"
        },
        "id": "8vbfpKddpbXp",
        "outputId": "740d1cb7-2d6e-4df4-b59a-1cbe91ad9b55"
      },
      "execution_count": null,
      "outputs": [
        {
          "output_type": "stream",
          "name": "stdout",
          "text": [
            "[0, 1, 3, 4, 5, 7, 7]\n",
            "[0, 1, 3, 4, 5, 7]\n",
            "[0, 1, 3, 4, 5]\n"
          ]
        }
      ]
    },
    {
      "cell_type": "markdown",
      "source": [
        "###Ordenar as listas"
      ],
      "metadata": {
        "id": "1IyyiHPx5t-y"
      }
    },
    {
      "cell_type": "markdown",
      "source": [
        "Formas de ordenar as listas."
      ],
      "metadata": {
        "id": "PyiZDGak28Ki"
      }
    },
    {
      "cell_type": "code",
      "source": [
        "#Lista pai\n",
        "l1Pai = [0, 3, 1, 7, 5, 7, 4]\n",
        "print('Está é a lista orginal: {}'.format(l1Pai))\n",
        "print()\n",
        "\n",
        "#A função sorted ordenada a lista em uma nova variável, ou seja, ela cria uma nova varíaval (sort1) com a lista ordenada. Porém a lista pai continua a igual.\n",
        "sort1 = sorted(l1Pai)\n",
        "print('Esta é lista ordenada com sorted, que foi criada uma nova variável (sort1): {}'.format(sort1))\n",
        "print()\n",
        "\n",
        "#O método .sort() não cria um nova varíavel com valores ordenados, ele somente modifica a lista pai \n",
        "sort2 = l1Pai.sort()\n",
        "print('O método .sort não cria uma nova variável, se ele for chamado esse será o resultado: {}'.format(sort2))\n",
        "print()\n",
        "\n",
        "# Ordenação inversa\n",
        "l1Pai.sort(reverse = True)\n",
        "print('Esta é lista ordenada ao reverso: {}'.format(l1Pai))"
      ],
      "metadata": {
        "colab": {
          "base_uri": "https://localhost:8080/"
        },
        "id": "tnBRw3X020j5",
        "outputId": "381eec58-53e1-472f-898c-8afe2eed448f"
      },
      "execution_count": null,
      "outputs": [
        {
          "output_type": "stream",
          "name": "stdout",
          "text": [
            "Está é a lista orginal: [0, 3, 1, 7, 5, 7, 4]\n",
            "\n",
            "Esta é lista ordenada com sorted, que foi criada uma nova variável (sort1): [0, 1, 3, 4, 5, 7, 7]\n",
            "\n",
            "O método .sort não cria uma nova variável, se ele for chamado esse será o resultado: None\n",
            "\n",
            "Esta é lista ordenada ao reverso: [7, 7, 5, 4, 3, 1, 0]\n"
          ]
        }
      ]
    },
    {
      "cell_type": "markdown",
      "source": [
        "###Listas Vazías"
      ],
      "metadata": {
        "id": "v5uH2Zfe_4Pi"
      }
    },
    {
      "cell_type": "code",
      "source": [
        "lista1 = []\n",
        "\n",
        "#Adicionar itens na lista vazia.\n",
        "for i in range(1,6):\n",
        "  lista1.append(float(input('Digite o {} número: '.format(i))))\n",
        "print(lista1)"
      ],
      "metadata": {
        "id": "FysnkwcV_8Nz"
      },
      "execution_count": null,
      "outputs": []
    },
    {
      "cell_type": "markdown",
      "source": [
        "###Listas com range"
      ],
      "metadata": {
        "id": "91hrCKaFDyfD"
      }
    },
    {
      "cell_type": "code",
      "source": [
        "# Criando lista\n",
        "eixoX = list(range(0,100+1,1))\n",
        "print(eixoX)\n",
        "\n",
        "for i in eixoX:\n",
        "  eixoX[i] /= 10\n",
        "print(eixoX)"
      ],
      "metadata": {
        "id": "xH6wBUfaD6iT"
      },
      "execution_count": null,
      "outputs": []
    },
    {
      "cell_type": "markdown",
      "source": [
        "###Copiar e clonar listas"
      ],
      "metadata": {
        "id": "bWcSTjDoED8y"
      }
    },
    {
      "cell_type": "markdown",
      "source": [
        "Aqui você está clonando as listas, ou seja, se você tentar fazer qualquer modificação em uma das duas os resultados serão aplicados nas duas listas. Isso acontece porque quando as listas são clonadas, elas ocupam o mesmo espaço de memória."
      ],
      "metadata": {
        "id": "8oVBAGkPETia"
      }
    },
    {
      "cell_type": "code",
      "source": [
        "# Declarando lista:\n",
        "l1 = [0, 2, 6, 4, 8, 1, 3]\n",
        "l2 = l1\n",
        "\n",
        "# Deletando último valor e plotando resultados\n",
        "l2.pop()\n",
        "\n",
        "print('l1 = {} '.format(l1))\n",
        "print('l2 = {} '.format(l2))"
      ],
      "metadata": {
        "id": "A3ea42qaEKE6"
      },
      "execution_count": null,
      "outputs": []
    },
    {
      "cell_type": "markdown",
      "source": [
        "Aqui você está copiando as listas, agora sim pode fazer alterações separadas em cada uma."
      ],
      "metadata": {
        "id": "kfB9pEsnE0uS"
      }
    },
    {
      "cell_type": "code",
      "source": [
        "# Declarando lista:\n",
        "l1 = [0, 2, 6, 4, 8, 1, 3]\n",
        "l2 = l1[:]\n",
        "\n",
        "# Deletando último valor e plotando resultados\n",
        "l2.pop()\n",
        "\n",
        "print('l1 = {} '.format(l1))\n",
        "print('l2 = {} '.format(l2))"
      ],
      "metadata": {
        "id": "eep0DbitFAdy"
      },
      "execution_count": null,
      "outputs": []
    },
    {
      "cell_type": "markdown",
      "source": [
        "###Listas no For"
      ],
      "metadata": {
        "id": "mEqCzUgaMPjS"
      }
    },
    {
      "cell_type": "markdown",
      "source": [
        "Se as listas forem do mesmo tamanho elas podem ser somadas, forem sem uma das listas for menor o código dará erro."
      ],
      "metadata": {
        "id": "ZhnCVV1NMWpT"
      }
    },
    {
      "cell_type": "code",
      "source": [
        "# Declarando as listas:\n",
        "l1 = [0, 2, 6, 4, 8, 1, 3]\n",
        "l2 = [3, 2, 1, 7, 8, 2, 5]\n",
        "l3 = []\n",
        "\n",
        "for i, val in enumerate(l1):\n",
        "  print('l1[{}] = {} e l2[{}] = {}'.format(i,l1[i],i,l2[i]))\n",
        "  l3.append(l1[i] + l2[i])\n",
        "print(l3)"
      ],
      "metadata": {
        "colab": {
          "base_uri": "https://localhost:8080/"
        },
        "id": "tKqyTLZEMSrh",
        "outputId": "946101c9-c5bd-4d6f-f41d-4afd8e2a530e"
      },
      "execution_count": null,
      "outputs": [
        {
          "output_type": "stream",
          "name": "stdout",
          "text": [
            "l1[0] = 0 e l2[0] = 3\n",
            "l1[1] = 2 e l2[1] = 2\n",
            "l1[2] = 6 e l2[2] = 1\n",
            "l1[3] = 4 e l2[3] = 7\n",
            "l1[4] = 8 e l2[4] = 8\n",
            "l1[5] = 1 e l2[5] = 2\n",
            "l1[6] = 3 e l2[6] = 5\n",
            "[3, 4, 7, 11, 16, 3, 8]\n"
          ]
        }
      ]
    },
    {
      "cell_type": "code",
      "source": [
        "l1 = [0, 2, 6, 4, 8, 1, 3]\n",
        "l2 = [3, 2, 1, 7, 8]\n",
        "l3 = []\n",
        "\n",
        "for i, val in enumerate(l1):\n",
        "  print('l1[{}] = {} e l2[{}] = {}'.format(i,l1[i],i,l2[i]))\n",
        "  l3.append(l1[i] + l2[i])\n",
        "print(l3)"
      ],
      "metadata": {
        "colab": {
          "base_uri": "https://localhost:8080/",
          "height": 322
        },
        "id": "ieD1P1B8Ms9S",
        "outputId": "c8a47afd-913c-4c13-8cfc-dbec9f491097"
      },
      "execution_count": null,
      "outputs": [
        {
          "output_type": "stream",
          "name": "stdout",
          "text": [
            "l1[0] = 0 e l2[0] = 3\n",
            "l1[1] = 2 e l2[1] = 2\n",
            "l1[2] = 6 e l2[2] = 1\n",
            "l1[3] = 4 e l2[3] = 7\n",
            "l1[4] = 8 e l2[4] = 8\n"
          ]
        },
        {
          "output_type": "error",
          "ename": "IndexError",
          "evalue": "ignored",
          "traceback": [
            "\u001b[0;31m---------------------------------------------------------------------------\u001b[0m",
            "\u001b[0;31mIndexError\u001b[0m                                Traceback (most recent call last)",
            "\u001b[0;32m<ipython-input-21-dbd06949c54f>\u001b[0m in \u001b[0;36m<module>\u001b[0;34m\u001b[0m\n\u001b[1;32m      4\u001b[0m \u001b[0;34m\u001b[0m\u001b[0m\n\u001b[1;32m      5\u001b[0m \u001b[0;32mfor\u001b[0m \u001b[0mi\u001b[0m\u001b[0;34m,\u001b[0m \u001b[0mval\u001b[0m \u001b[0;32min\u001b[0m \u001b[0menumerate\u001b[0m\u001b[0;34m(\u001b[0m\u001b[0ml1\u001b[0m\u001b[0;34m)\u001b[0m\u001b[0;34m:\u001b[0m\u001b[0;34m\u001b[0m\u001b[0;34m\u001b[0m\u001b[0m\n\u001b[0;32m----> 6\u001b[0;31m   \u001b[0mprint\u001b[0m\u001b[0;34m(\u001b[0m\u001b[0;34m'l1[{}] = {} e l2[{}] = {}'\u001b[0m\u001b[0;34m.\u001b[0m\u001b[0mformat\u001b[0m\u001b[0;34m(\u001b[0m\u001b[0mi\u001b[0m\u001b[0;34m,\u001b[0m\u001b[0ml1\u001b[0m\u001b[0;34m[\u001b[0m\u001b[0mi\u001b[0m\u001b[0;34m]\u001b[0m\u001b[0;34m,\u001b[0m\u001b[0mi\u001b[0m\u001b[0;34m,\u001b[0m\u001b[0ml2\u001b[0m\u001b[0;34m[\u001b[0m\u001b[0mi\u001b[0m\u001b[0;34m]\u001b[0m\u001b[0;34m)\u001b[0m\u001b[0;34m)\u001b[0m\u001b[0;34m\u001b[0m\u001b[0;34m\u001b[0m\u001b[0m\n\u001b[0m\u001b[1;32m      7\u001b[0m   \u001b[0ml3\u001b[0m\u001b[0;34m.\u001b[0m\u001b[0mappend\u001b[0m\u001b[0;34m(\u001b[0m\u001b[0ml1\u001b[0m\u001b[0;34m[\u001b[0m\u001b[0mi\u001b[0m\u001b[0;34m]\u001b[0m \u001b[0;34m+\u001b[0m \u001b[0ml2\u001b[0m\u001b[0;34m[\u001b[0m\u001b[0mi\u001b[0m\u001b[0;34m]\u001b[0m\u001b[0;34m)\u001b[0m\u001b[0;34m\u001b[0m\u001b[0;34m\u001b[0m\u001b[0m\n\u001b[1;32m      8\u001b[0m \u001b[0mprint\u001b[0m\u001b[0;34m(\u001b[0m\u001b[0ml3\u001b[0m\u001b[0;34m)\u001b[0m\u001b[0;34m\u001b[0m\u001b[0;34m\u001b[0m\u001b[0m\n",
            "\u001b[0;31mIndexError\u001b[0m: list index out of range"
          ]
        }
      ]
    },
    {
      "cell_type": "markdown",
      "source": [
        "Para resolver esse problema é usado o For com zip, porém os números da lista menor serão ignorados."
      ],
      "metadata": {
        "id": "lp-ZURfJM0oD"
      }
    },
    {
      "cell_type": "code",
      "source": [
        "# Declarando as listas:\n",
        "l1 = [0, 2, 6, 4, 8, 1, 3]\n",
        "l2 = [3, 2, 1, 7, 8]\n",
        "l3 = list()\n",
        "\n",
        "for v1, v2 in zip(l1,l2):\n",
        "  print('v1 = {} e v2 = {}'.format(v1,v2))\n",
        "  l3.append(v1+v2)\n",
        "print(l3)\n"
      ],
      "metadata": {
        "id": "X3Hd09IqM9DS"
      },
      "execution_count": null,
      "outputs": []
    },
    {
      "cell_type": "markdown",
      "source": [
        "##Listas Compostas"
      ],
      "metadata": {
        "id": "4pSsceKruJmG"
      }
    },
    {
      "cell_type": "markdown",
      "source": [
        "###Declarando valores"
      ],
      "metadata": {
        "id": "RlQuETJGuj1N"
      }
    },
    {
      "cell_type": "code",
      "source": [
        "#Declaração direta\n",
        "cardapio = [['Lanche', 10.9], ['Batata',  5.5], ['Refri' ,  3.9]]\n",
        "\n",
        "#Declaração por partes\n",
        "anche = ['Lanche', 10.9] \n",
        "batata = ['Batata',  5.5]\n",
        "refri  = ['Refri' ,  3.9]\n",
        "cardapio = [lanche, batata, refri]\n",
        "\n",
        "#Declaração com .append()\n",
        "cardapio = []\n",
        "comida = []\n",
        "comida.append('Lanche')\n",
        "comida.append(10.9)\n",
        "cardapio.append(comida[:])\n",
        "\n",
        "#Declaração com .append() para o usúario adicionar\n",
        "  comida.append(str(input('Fala o nome da comida: ')))\n",
        "  comida.append(float(input('Fale o valor da comida: ')))\n",
        "  cardapio.append(comida[:])\n",
        "  print(f'No passo {c} comida = {comida} e cardapio = {cardapio}')\n",
        "  comida.clear()"
      ],
      "metadata": {
        "id": "dCYNkWV5ujVG"
      },
      "execution_count": null,
      "outputs": []
    },
    {
      "cell_type": "markdown",
      "source": [
        "###Acessando valores"
      ],
      "metadata": {
        "id": "Flix7gdtuU7-"
      }
    },
    {
      "cell_type": "code",
      "source": [
        "# Declarando a lista de listas:\n",
        "cardapio = [['Lanche', 10.9], ['Batata',  5.5], ['Refri' ,  3.9]]\n",
        "print(cardapio)\n",
        "print()\n",
        "\n",
        "# Imprimindo os valores:\n",
        "print(f'cardapio[0] = {cardapio[0]}')\n",
        "print(f'cardapio[1] = {cardapio[1]}')\n",
        "print(f'cardapio[2] = {cardapio[2]}')\n",
        "\n",
        "print()\n",
        "\n",
        "print(f'cardapio[0][0] = {cardapio[0][0]}')\n",
        "print(f'cardapio[0][1] = {cardapio[0][1]}')\n",
        "print(f'cardapio[1][0] = {cardapio[1][0]}')\n",
        "print(f'cardapio[1][1] = {cardapio[1][1]}')"
      ],
      "metadata": {
        "id": "KGnHNStvuOHF"
      },
      "execution_count": null,
      "outputs": []
    },
    {
      "cell_type": "markdown",
      "source": [
        "Dentro do for"
      ],
      "metadata": {
        "id": "SoLic4BKJQ5_"
      }
    },
    {
      "cell_type": "code",
      "source": [
        "cardapio = [['Lanche', 10.9], ['Batata',  5.5], ['Refri' ,  3.9]]\n",
        "for c in cardapio:\n",
        "  print(f'c = {c}')\n",
        "\n",
        "for c in cardapio:\n",
        "  print(f'c[0] = {c[0]}')\n",
        "\n",
        "soma = 0\n",
        "for c in cardapio:\n",
        "  print(f'c[1] = {c[1]}')\n",
        "  soma += c[1]\n",
        "print(soma)"
      ],
      "metadata": {
        "colab": {
          "base_uri": "https://localhost:8080/"
        },
        "id": "oFpkIGnuJVBf",
        "outputId": "4ebdf850-d4cb-4fe3-aa25-f0543ad4874b"
      },
      "execution_count": null,
      "outputs": [
        {
          "output_type": "stream",
          "name": "stdout",
          "text": [
            "c = ['Lanche', 10.9]\n",
            "c = ['Batata', 5.5]\n",
            "c = ['Refri', 3.9]\n",
            "c[0] = Lanche\n",
            "c[0] = Batata\n",
            "c[0] = Refri\n",
            "c[1] = 10.9\n",
            "c[1] = 5.5\n",
            "c[1] = 3.9\n",
            "20.299999999999997\n"
          ]
        }
      ]
    },
    {
      "cell_type": "markdown",
      "source": [
        "#Dicionário"
      ],
      "metadata": {
        "id": "gizug2OOyZ7T"
      }
    },
    {
      "cell_type": "markdown",
      "source": [
        "##Partes do dicionário"
      ],
      "metadata": {
        "id": "GxsndqI12RTc"
      }
    },
    {
      "cell_type": "markdown",
      "source": [
        "Os dicionários são separados em três partes, são as keys, values e items."
      ],
      "metadata": {
        "id": "HamZtbKDy4U2"
      }
    },
    {
      "cell_type": "code",
      "source": [
        "#keys: nome,idade,cidade\n",
        "#values: Everton, 29, São José\n",
        "#items: [nome : Everton], [idade : 29], [cidade : São José]\n",
        "\n",
        "dic1 = {}\n",
        "dict2 = dict()\n",
        "dicio = {\n",
        "    'nome' : 'Everton',\n",
        "    'idade' : 29,\n",
        "    'cidade' : 'São José'\n",
        "}"
      ],
      "metadata": {
        "id": "p0X_ayPgydA7"
      },
      "execution_count": null,
      "outputs": []
    },
    {
      "cell_type": "markdown",
      "source": [
        "##Acessando valores"
      ],
      "metadata": {
        "id": "95Sb5ItB2VQ7"
      }
    },
    {
      "cell_type": "code",
      "source": [
        "pessoa = {\n",
        "    'nome' : 'Everton',\n",
        "    'idade' : 29,\n",
        "    'cidade' : 'São José'\n",
        "}\n",
        "\n",
        "# Acessando os valores:\n",
        "print(pessoa['nome'])\n",
        "print(pessoa['idade'])\n",
        "print(pessoa['cidade'])\n",
        "\n",
        "#dicio  = dicionário completo\n",
        "#dicio.values() = somente os valores do dicionário\n",
        "#dicio.keys()  = somente as chaves do dicionário\n",
        "#dicio.items() = chaves + valores do dicionário (usado em loopings)\n",
        "\n",
        "#k = key, por causa do .keys()\n",
        "for k in dicio.keys():\n",
        "  print('A chave é: {}'.format(k))\n",
        "\n",
        "#v = value, por causa do .values()\n",
        "for v in dicio.values():\n",
        "  print('Os valores são: {}'.format(v))\n",
        "\n",
        "#k = key; v = value\n",
        "for k, v in dicio.items():\n",
        "  print('O (a) {} é: {}'.format(k,v))"
      ],
      "metadata": {
        "id": "3At2xmzh2bEP"
      },
      "execution_count": null,
      "outputs": []
    },
    {
      "cell_type": "markdown",
      "source": [
        "##Modificando valores"
      ],
      "metadata": {
        "id": "4L9QJo7l2jfz"
      }
    },
    {
      "cell_type": "code",
      "source": [
        "# Modificando o valor:\n",
        "pessoa = {\n",
        "    'nome' : 'Everton',\n",
        "    'idade' : 29,\n",
        "    'cidade' : 'São José'\n",
        "}\n",
        "\n",
        "pessoa['cidade'] = 'São Paulo'\n",
        "\n",
        "# Imprimindo valores:\n",
        "print(pessoa['cidade'])\n",
        "print(pessoa)"
      ],
      "metadata": {
        "id": "Wt9vsfqh2lmz"
      },
      "execution_count": null,
      "outputs": []
    },
    {
      "cell_type": "markdown",
      "source": [
        "##Criando e deletando uma chave"
      ],
      "metadata": {
        "id": "1MaL6PkT2tij"
      }
    },
    {
      "cell_type": "code",
      "source": [
        "pessoa = {\n",
        "    'nome' : 'Everton',\n",
        "    'idade' : 29,\n",
        "    'cidade' : 'São José'\n",
        "}\n",
        "\n",
        "pessoa['peso'] = 50\n",
        "pessoa['Cidade'] = 'Rio de janeiro'\n",
        "\n",
        "print(pessoa)\n",
        "\n",
        "del pessoa['Cidade']\n",
        "print(pessoa)"
      ],
      "metadata": {
        "colab": {
          "base_uri": "https://localhost:8080/"
        },
        "id": "PZdbuRp02v5k",
        "outputId": "c412f98d-15cd-4456-a729-82ef5dc5c8ff"
      },
      "execution_count": null,
      "outputs": [
        {
          "output_type": "stream",
          "name": "stdout",
          "text": [
            "{'nome': 'Everton', 'idade': 29, 'cidade': 'São José', 'peso': 50, 'Cidade': 'Rio de janeiro'}\n",
            "{'nome': 'Everton', 'idade': 29, 'cidade': 'São José', 'peso': 50}\n"
          ]
        }
      ]
    },
    {
      "cell_type": "markdown",
      "source": [
        "##Dicionário dentro de lista"
      ],
      "metadata": {
        "id": "BH5b5cWtVODF"
      }
    },
    {
      "cell_type": "code",
      "source": [
        "pessoas = [\n",
        "          {'nome':'Everton' , 'idade':29 , 'cidade':'São José'},\n",
        "          {'nome':'Thiago' , 'idade':34 , 'cidade':'São Paulo'},\n",
        "          {'nome':'André' , 'idade':22 , 'cidade':'Lorena'}\n",
        "]\n",
        "# Imprimindo cada lista:\n",
        "print(pessoas[0])\n",
        "\n",
        "# Imprimindo o nome da pessoa 1:\n",
        "print(pessoas[0]['nome'])\n",
        "\n",
        "# Imprimindo o idade da pessoa 2:\n",
        "print(pessoas[1]['idade'])\n",
        "\n",
        "# Imprimindo o cidade da pessoa 3:\n",
        "print(pessoas[2]['cidade'])"
      ],
      "metadata": {
        "id": "TRYhq8lxVUTs"
      },
      "execution_count": null,
      "outputs": []
    },
    {
      "cell_type": "markdown",
      "source": [
        "##For dentro de For"
      ],
      "metadata": {
        "id": "EV51n7KT0Qk8"
      }
    },
    {
      "cell_type": "markdown",
      "source": [
        "O primeiro for retorna os dicionários completos um de cada vez, já o segundo for retorna os valores que estão dentro do dicionário (keys e values)."
      ],
      "metadata": {
        "id": "5t77MsEJ0YbU"
      }
    },
    {
      "cell_type": "code",
      "source": [
        "pessoas = [\n",
        "          {'nome':'Everton' , 'idade':29 , 'cidade':'São José'},\n",
        "          {'nome':'Thiago' , 'idade':34 , 'cidade':'São Paulo'},\n",
        "          {'nome':'André' , 'idade':22 , 'cidade':'Lorena'}\n",
        "]\n",
        "\n",
        "#Preste atenção nos valores que são retornados para não se confundir.\n",
        "for p in pessoas:\n",
        "  print('Dados da pessoa: {}'.format(p))\n",
        "  for k, v in p.items():\n",
        "    print(f'O {k} é {v}')\n",
        "  print('-'*30)\n",
        "\n",
        "\n",
        "# Imprimir os dados de pessoas com menos de 30 anos:\n",
        "for i, p in enumerate(pessoas):\n",
        "  for k, v in p.items():\n",
        "    if k == 'idade' and v < 30:\n",
        "      print(f\"A pessoa {i+1} tem {p['idade']} anos e o nome dela é{p['nome']} e mora em {p['cidade']}\")"
      ],
      "metadata": {
        "id": "t9wSRzB60Xt_"
      },
      "execution_count": null,
      "outputs": []
    },
    {
      "cell_type": "markdown",
      "source": [
        "##Copiando dicionários para listas"
      ],
      "metadata": {
        "id": "JKEEv2yq4Gft"
      }
    },
    {
      "cell_type": "code",
      "source": [
        "temp = {}\n",
        "pessoas = []\n",
        "\n",
        "while True:\n",
        "  temp['nome'] = str(input('Fale um nome: '))\n",
        "  temp['idade'] = int(input('Fale uma idade: '))\n",
        "  continua = str(input('Você quer continuar ? '))\n",
        "  pessoas.append(temp.copy())\n",
        "  if continua == 'n':\n",
        "    break\n",
        "print(pessoas)"
      ],
      "metadata": {
        "id": "BFTVjPnE4QXW"
      },
      "execution_count": null,
      "outputs": []
    },
    {
      "cell_type": "markdown",
      "source": [
        "#Funções"
      ],
      "metadata": {
        "id": "ml0klEKtJqvt"
      }
    },
    {
      "cell_type": "markdown",
      "source": [
        "##Criando funções"
      ],
      "metadata": {
        "id": "L4peRiBEJvNW"
      }
    },
    {
      "cell_type": "code",
      "source": [
        "# Função\n",
        "def funcao(parametro):     -> declaração da funcao\n",
        "  print('Função')          -> inicio da função\n",
        "\n",
        "                           -> fim da função\n",
        "# Programa Principal\n",
        "...\n",
        "funcao(parametro)                   -> chamada da função"
      ],
      "metadata": {
        "id": "Honpw9bEJmqW"
      },
      "execution_count": null,
      "outputs": []
    },
    {
      "cell_type": "markdown",
      "source": [
        "##Parâmetros de entrada"
      ],
      "metadata": {
        "id": "4ZFEis_eKBpN"
      }
    },
    {
      "cell_type": "code",
      "source": [
        "#Função que funciona sem parâmetros(entrada/saída)\n",
        "def funcao():\n",
        "  print('Ola, seja muito bem vidndo ao curso de python DNC')\n",
        "  print('-'*10)\n",
        "funcao()\n",
        "\n",
        "#função que precisa de parâmetros(entrada/saída)\n",
        "def txt(frase):\n",
        "  tamanho = len(frase)\n",
        "  print('-'*40)\n",
        "  print('-'*int((39 - tamanho)*0.5),frase,'-'*int((38 - tamanho)/2))\n",
        "  print('-'*40)\n",
        "\n",
        "# Principal\n",
        "frase = str(input('Digite um frase: '))\n",
        "txt(frase)"
      ],
      "metadata": {
        "id": "LjxHMNUxKHhB"
      },
      "execution_count": null,
      "outputs": []
    }
  ]
}